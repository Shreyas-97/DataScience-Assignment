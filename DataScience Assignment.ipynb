{
 "cells": [
  {
   "cell_type": "code",
   "execution_count": 1,
   "metadata": {},
   "outputs": [],
   "source": [
    "import pandas as pd\n",
    "import matplotlib.pyplot as plt\n",
    "import numpy as np\n",
    "%matplotlib inline"
   ]
  },
  {
   "cell_type": "code",
   "execution_count": 7,
   "metadata": {},
   "outputs": [],
   "source": [
    "#1.Import the data set in Python.\n",
    "Mhousing=pd.read_csv(r\"C:\\Users\\Shreyas s\\Desktop\\wipro ML\\Melbourne_housing_FULL.csv\")"
   ]
  },
  {
   "cell_type": "code",
   "execution_count": 8,
   "metadata": {},
   "outputs": [
    {
     "data": {
      "text/html": [
       "<div>\n",
       "<style scoped>\n",
       "    .dataframe tbody tr th:only-of-type {\n",
       "        vertical-align: middle;\n",
       "    }\n",
       "\n",
       "    .dataframe tbody tr th {\n",
       "        vertical-align: top;\n",
       "    }\n",
       "\n",
       "    .dataframe thead th {\n",
       "        text-align: right;\n",
       "    }\n",
       "</style>\n",
       "<table border=\"1\" class=\"dataframe\">\n",
       "  <thead>\n",
       "    <tr style=\"text-align: right;\">\n",
       "      <th></th>\n",
       "      <th>Suburb</th>\n",
       "      <th>Address</th>\n",
       "      <th>Rooms</th>\n",
       "      <th>Type</th>\n",
       "      <th>Price</th>\n",
       "      <th>Method</th>\n",
       "      <th>SellerG</th>\n",
       "      <th>Date</th>\n",
       "      <th>Distance</th>\n",
       "      <th>Postcode</th>\n",
       "      <th>...</th>\n",
       "      <th>Bathroom</th>\n",
       "      <th>Car</th>\n",
       "      <th>Landsize</th>\n",
       "      <th>BuildingArea</th>\n",
       "      <th>YearBuilt</th>\n",
       "      <th>CouncilArea</th>\n",
       "      <th>Lattitude</th>\n",
       "      <th>Longtitude</th>\n",
       "      <th>Regionname</th>\n",
       "      <th>Propertycount</th>\n",
       "    </tr>\n",
       "  </thead>\n",
       "  <tbody>\n",
       "    <tr>\n",
       "      <th>0</th>\n",
       "      <td>Abbotsford</td>\n",
       "      <td>68 Studley St</td>\n",
       "      <td>2</td>\n",
       "      <td>h</td>\n",
       "      <td>NaN</td>\n",
       "      <td>SS</td>\n",
       "      <td>Jellis</td>\n",
       "      <td>3/09/2016</td>\n",
       "      <td>2.5</td>\n",
       "      <td>3067.0</td>\n",
       "      <td>...</td>\n",
       "      <td>1.0</td>\n",
       "      <td>1.0</td>\n",
       "      <td>126.0</td>\n",
       "      <td>NaN</td>\n",
       "      <td>NaN</td>\n",
       "      <td>Yarra City Council</td>\n",
       "      <td>-37.80140</td>\n",
       "      <td>144.99580</td>\n",
       "      <td>Northern Metropolitan</td>\n",
       "      <td>4019.0</td>\n",
       "    </tr>\n",
       "    <tr>\n",
       "      <th>1</th>\n",
       "      <td>Abbotsford</td>\n",
       "      <td>85 Turner St</td>\n",
       "      <td>2</td>\n",
       "      <td>h</td>\n",
       "      <td>1480000.0</td>\n",
       "      <td>S</td>\n",
       "      <td>Biggin</td>\n",
       "      <td>3/12/2016</td>\n",
       "      <td>2.5</td>\n",
       "      <td>3067.0</td>\n",
       "      <td>...</td>\n",
       "      <td>1.0</td>\n",
       "      <td>1.0</td>\n",
       "      <td>202.0</td>\n",
       "      <td>NaN</td>\n",
       "      <td>NaN</td>\n",
       "      <td>Yarra City Council</td>\n",
       "      <td>-37.79960</td>\n",
       "      <td>144.99840</td>\n",
       "      <td>Northern Metropolitan</td>\n",
       "      <td>4019.0</td>\n",
       "    </tr>\n",
       "    <tr>\n",
       "      <th>2</th>\n",
       "      <td>Abbotsford</td>\n",
       "      <td>25 Bloomburg St</td>\n",
       "      <td>2</td>\n",
       "      <td>h</td>\n",
       "      <td>1035000.0</td>\n",
       "      <td>S</td>\n",
       "      <td>Biggin</td>\n",
       "      <td>4/02/2016</td>\n",
       "      <td>2.5</td>\n",
       "      <td>3067.0</td>\n",
       "      <td>...</td>\n",
       "      <td>1.0</td>\n",
       "      <td>0.0</td>\n",
       "      <td>156.0</td>\n",
       "      <td>79.0</td>\n",
       "      <td>1900.0</td>\n",
       "      <td>Yarra City Council</td>\n",
       "      <td>-37.80790</td>\n",
       "      <td>144.99340</td>\n",
       "      <td>Northern Metropolitan</td>\n",
       "      <td>4019.0</td>\n",
       "    </tr>\n",
       "    <tr>\n",
       "      <th>3</th>\n",
       "      <td>Abbotsford</td>\n",
       "      <td>18/659 Victoria St</td>\n",
       "      <td>3</td>\n",
       "      <td>u</td>\n",
       "      <td>NaN</td>\n",
       "      <td>VB</td>\n",
       "      <td>Rounds</td>\n",
       "      <td>4/02/2016</td>\n",
       "      <td>2.5</td>\n",
       "      <td>3067.0</td>\n",
       "      <td>...</td>\n",
       "      <td>2.0</td>\n",
       "      <td>1.0</td>\n",
       "      <td>0.0</td>\n",
       "      <td>NaN</td>\n",
       "      <td>NaN</td>\n",
       "      <td>Yarra City Council</td>\n",
       "      <td>-37.81140</td>\n",
       "      <td>145.01160</td>\n",
       "      <td>Northern Metropolitan</td>\n",
       "      <td>4019.0</td>\n",
       "    </tr>\n",
       "    <tr>\n",
       "      <th>4</th>\n",
       "      <td>Abbotsford</td>\n",
       "      <td>5 Charles St</td>\n",
       "      <td>3</td>\n",
       "      <td>h</td>\n",
       "      <td>1465000.0</td>\n",
       "      <td>SP</td>\n",
       "      <td>Biggin</td>\n",
       "      <td>4/03/2017</td>\n",
       "      <td>2.5</td>\n",
       "      <td>3067.0</td>\n",
       "      <td>...</td>\n",
       "      <td>2.0</td>\n",
       "      <td>0.0</td>\n",
       "      <td>134.0</td>\n",
       "      <td>150.0</td>\n",
       "      <td>1900.0</td>\n",
       "      <td>Yarra City Council</td>\n",
       "      <td>-37.80930</td>\n",
       "      <td>144.99440</td>\n",
       "      <td>Northern Metropolitan</td>\n",
       "      <td>4019.0</td>\n",
       "    </tr>\n",
       "    <tr>\n",
       "      <th>...</th>\n",
       "      <td>...</td>\n",
       "      <td>...</td>\n",
       "      <td>...</td>\n",
       "      <td>...</td>\n",
       "      <td>...</td>\n",
       "      <td>...</td>\n",
       "      <td>...</td>\n",
       "      <td>...</td>\n",
       "      <td>...</td>\n",
       "      <td>...</td>\n",
       "      <td>...</td>\n",
       "      <td>...</td>\n",
       "      <td>...</td>\n",
       "      <td>...</td>\n",
       "      <td>...</td>\n",
       "      <td>...</td>\n",
       "      <td>...</td>\n",
       "      <td>...</td>\n",
       "      <td>...</td>\n",
       "      <td>...</td>\n",
       "      <td>...</td>\n",
       "    </tr>\n",
       "    <tr>\n",
       "      <th>34852</th>\n",
       "      <td>Yarraville</td>\n",
       "      <td>13 Burns St</td>\n",
       "      <td>4</td>\n",
       "      <td>h</td>\n",
       "      <td>1480000.0</td>\n",
       "      <td>PI</td>\n",
       "      <td>Jas</td>\n",
       "      <td>24/02/2018</td>\n",
       "      <td>6.3</td>\n",
       "      <td>3013.0</td>\n",
       "      <td>...</td>\n",
       "      <td>1.0</td>\n",
       "      <td>3.0</td>\n",
       "      <td>593.0</td>\n",
       "      <td>NaN</td>\n",
       "      <td>NaN</td>\n",
       "      <td>Maribyrnong City Council</td>\n",
       "      <td>-37.81053</td>\n",
       "      <td>144.88467</td>\n",
       "      <td>Western Metropolitan</td>\n",
       "      <td>6543.0</td>\n",
       "    </tr>\n",
       "    <tr>\n",
       "      <th>34853</th>\n",
       "      <td>Yarraville</td>\n",
       "      <td>29A Murray St</td>\n",
       "      <td>2</td>\n",
       "      <td>h</td>\n",
       "      <td>888000.0</td>\n",
       "      <td>SP</td>\n",
       "      <td>Sweeney</td>\n",
       "      <td>24/02/2018</td>\n",
       "      <td>6.3</td>\n",
       "      <td>3013.0</td>\n",
       "      <td>...</td>\n",
       "      <td>2.0</td>\n",
       "      <td>1.0</td>\n",
       "      <td>98.0</td>\n",
       "      <td>104.0</td>\n",
       "      <td>2018.0</td>\n",
       "      <td>Maribyrnong City Council</td>\n",
       "      <td>-37.81551</td>\n",
       "      <td>144.88826</td>\n",
       "      <td>Western Metropolitan</td>\n",
       "      <td>6543.0</td>\n",
       "    </tr>\n",
       "    <tr>\n",
       "      <th>34854</th>\n",
       "      <td>Yarraville</td>\n",
       "      <td>147A Severn St</td>\n",
       "      <td>2</td>\n",
       "      <td>t</td>\n",
       "      <td>705000.0</td>\n",
       "      <td>S</td>\n",
       "      <td>Jas</td>\n",
       "      <td>24/02/2018</td>\n",
       "      <td>6.3</td>\n",
       "      <td>3013.0</td>\n",
       "      <td>...</td>\n",
       "      <td>1.0</td>\n",
       "      <td>2.0</td>\n",
       "      <td>220.0</td>\n",
       "      <td>120.0</td>\n",
       "      <td>2000.0</td>\n",
       "      <td>Maribyrnong City Council</td>\n",
       "      <td>-37.82286</td>\n",
       "      <td>144.87856</td>\n",
       "      <td>Western Metropolitan</td>\n",
       "      <td>6543.0</td>\n",
       "    </tr>\n",
       "    <tr>\n",
       "      <th>34855</th>\n",
       "      <td>Yarraville</td>\n",
       "      <td>12/37 Stephen St</td>\n",
       "      <td>3</td>\n",
       "      <td>h</td>\n",
       "      <td>1140000.0</td>\n",
       "      <td>SP</td>\n",
       "      <td>hockingstuart</td>\n",
       "      <td>24/02/2018</td>\n",
       "      <td>6.3</td>\n",
       "      <td>3013.0</td>\n",
       "      <td>...</td>\n",
       "      <td>NaN</td>\n",
       "      <td>NaN</td>\n",
       "      <td>NaN</td>\n",
       "      <td>NaN</td>\n",
       "      <td>NaN</td>\n",
       "      <td>Maribyrnong City Council</td>\n",
       "      <td>NaN</td>\n",
       "      <td>NaN</td>\n",
       "      <td>Western Metropolitan</td>\n",
       "      <td>6543.0</td>\n",
       "    </tr>\n",
       "    <tr>\n",
       "      <th>34856</th>\n",
       "      <td>Yarraville</td>\n",
       "      <td>3 Tarrengower St</td>\n",
       "      <td>2</td>\n",
       "      <td>h</td>\n",
       "      <td>1020000.0</td>\n",
       "      <td>PI</td>\n",
       "      <td>RW</td>\n",
       "      <td>24/02/2018</td>\n",
       "      <td>6.3</td>\n",
       "      <td>3013.0</td>\n",
       "      <td>...</td>\n",
       "      <td>1.0</td>\n",
       "      <td>0.0</td>\n",
       "      <td>250.0</td>\n",
       "      <td>103.0</td>\n",
       "      <td>1930.0</td>\n",
       "      <td>Maribyrnong City Council</td>\n",
       "      <td>-37.81810</td>\n",
       "      <td>144.89351</td>\n",
       "      <td>Western Metropolitan</td>\n",
       "      <td>6543.0</td>\n",
       "    </tr>\n",
       "  </tbody>\n",
       "</table>\n",
       "<p>34857 rows × 21 columns</p>\n",
       "</div>"
      ],
      "text/plain": [
       "           Suburb             Address  Rooms Type      Price Method  \\\n",
       "0      Abbotsford       68 Studley St      2    h        NaN     SS   \n",
       "1      Abbotsford        85 Turner St      2    h  1480000.0      S   \n",
       "2      Abbotsford     25 Bloomburg St      2    h  1035000.0      S   \n",
       "3      Abbotsford  18/659 Victoria St      3    u        NaN     VB   \n",
       "4      Abbotsford        5 Charles St      3    h  1465000.0     SP   \n",
       "...           ...                 ...    ...  ...        ...    ...   \n",
       "34852  Yarraville         13 Burns St      4    h  1480000.0     PI   \n",
       "34853  Yarraville       29A Murray St      2    h   888000.0     SP   \n",
       "34854  Yarraville      147A Severn St      2    t   705000.0      S   \n",
       "34855  Yarraville    12/37 Stephen St      3    h  1140000.0     SP   \n",
       "34856  Yarraville    3 Tarrengower St      2    h  1020000.0     PI   \n",
       "\n",
       "             SellerG        Date  Distance  Postcode  ...  Bathroom  Car  \\\n",
       "0             Jellis   3/09/2016       2.5    3067.0  ...       1.0  1.0   \n",
       "1             Biggin   3/12/2016       2.5    3067.0  ...       1.0  1.0   \n",
       "2             Biggin   4/02/2016       2.5    3067.0  ...       1.0  0.0   \n",
       "3             Rounds   4/02/2016       2.5    3067.0  ...       2.0  1.0   \n",
       "4             Biggin   4/03/2017       2.5    3067.0  ...       2.0  0.0   \n",
       "...              ...         ...       ...       ...  ...       ...  ...   \n",
       "34852            Jas  24/02/2018       6.3    3013.0  ...       1.0  3.0   \n",
       "34853        Sweeney  24/02/2018       6.3    3013.0  ...       2.0  1.0   \n",
       "34854            Jas  24/02/2018       6.3    3013.0  ...       1.0  2.0   \n",
       "34855  hockingstuart  24/02/2018       6.3    3013.0  ...       NaN  NaN   \n",
       "34856             RW  24/02/2018       6.3    3013.0  ...       1.0  0.0   \n",
       "\n",
       "       Landsize  BuildingArea  YearBuilt               CouncilArea Lattitude  \\\n",
       "0         126.0           NaN        NaN        Yarra City Council -37.80140   \n",
       "1         202.0           NaN        NaN        Yarra City Council -37.79960   \n",
       "2         156.0          79.0     1900.0        Yarra City Council -37.80790   \n",
       "3           0.0           NaN        NaN        Yarra City Council -37.81140   \n",
       "4         134.0         150.0     1900.0        Yarra City Council -37.80930   \n",
       "...         ...           ...        ...                       ...       ...   \n",
       "34852     593.0           NaN        NaN  Maribyrnong City Council -37.81053   \n",
       "34853      98.0         104.0     2018.0  Maribyrnong City Council -37.81551   \n",
       "34854     220.0         120.0     2000.0  Maribyrnong City Council -37.82286   \n",
       "34855       NaN           NaN        NaN  Maribyrnong City Council       NaN   \n",
       "34856     250.0         103.0     1930.0  Maribyrnong City Council -37.81810   \n",
       "\n",
       "       Longtitude             Regionname Propertycount  \n",
       "0       144.99580  Northern Metropolitan        4019.0  \n",
       "1       144.99840  Northern Metropolitan        4019.0  \n",
       "2       144.99340  Northern Metropolitan        4019.0  \n",
       "3       145.01160  Northern Metropolitan        4019.0  \n",
       "4       144.99440  Northern Metropolitan        4019.0  \n",
       "...           ...                    ...           ...  \n",
       "34852   144.88467   Western Metropolitan        6543.0  \n",
       "34853   144.88826   Western Metropolitan        6543.0  \n",
       "34854   144.87856   Western Metropolitan        6543.0  \n",
       "34855         NaN   Western Metropolitan        6543.0  \n",
       "34856   144.89351   Western Metropolitan        6543.0  \n",
       "\n",
       "[34857 rows x 21 columns]"
      ]
     },
     "execution_count": 8,
     "metadata": {},
     "output_type": "execute_result"
    }
   ],
   "source": [
    "#2.View the dataset\n",
    "Mhousing"
   ]
  },
  {
   "cell_type": "code",
   "execution_count": 9,
   "metadata": {},
   "outputs": [
    {
     "name": "stdout",
     "output_type": "stream",
     "text": [
      "<class 'pandas.core.frame.DataFrame'>\n",
      "RangeIndex: 34857 entries, 0 to 34856\n",
      "Data columns (total 21 columns):\n",
      " #   Column         Non-Null Count  Dtype  \n",
      "---  ------         --------------  -----  \n",
      " 0   Suburb         34857 non-null  object \n",
      " 1   Address        34857 non-null  object \n",
      " 2   Rooms          34857 non-null  int64  \n",
      " 3   Type           34857 non-null  object \n",
      " 4   Price          27247 non-null  float64\n",
      " 5   Method         34857 non-null  object \n",
      " 6   SellerG        34857 non-null  object \n",
      " 7   Date           34857 non-null  object \n",
      " 8   Distance       34856 non-null  float64\n",
      " 9   Postcode       34856 non-null  float64\n",
      " 10  Bedroom2       26640 non-null  float64\n",
      " 11  Bathroom       26631 non-null  float64\n",
      " 12  Car            26129 non-null  float64\n",
      " 13  Landsize       23047 non-null  float64\n",
      " 14  BuildingArea   13742 non-null  float64\n",
      " 15  YearBuilt      15551 non-null  float64\n",
      " 16  CouncilArea    34854 non-null  object \n",
      " 17  Lattitude      26881 non-null  float64\n",
      " 18  Longtitude     26881 non-null  float64\n",
      " 19  Regionname     34854 non-null  object \n",
      " 20  Propertycount  34854 non-null  float64\n",
      "dtypes: float64(12), int64(1), object(8)\n",
      "memory usage: 5.6+ MB\n"
     ]
    }
   ],
   "source": [
    "#3.See the structure and the summary of the dataset to understand the data.\n",
    "Mhousing.info()"
   ]
  },
  {
   "cell_type": "code",
   "execution_count": 10,
   "metadata": {},
   "outputs": [
    {
     "data": {
      "text/plain": [
       "(34857, 21)"
      ]
     },
     "execution_count": 10,
     "metadata": {},
     "output_type": "execute_result"
    }
   ],
   "source": [
    "Mhousing.shape"
   ]
  },
  {
   "cell_type": "code",
   "execution_count": 11,
   "metadata": {},
   "outputs": [
    {
     "data": {
      "text/plain": [
       "Index(['Suburb', 'Address', 'Rooms', 'Type', 'Price', 'Method', 'SellerG',\n",
       "       'Date', 'Distance', 'Postcode', 'Bedroom2', 'Bathroom', 'Car',\n",
       "       'Landsize', 'BuildingArea', 'YearBuilt', 'CouncilArea', 'Lattitude',\n",
       "       'Longtitude', 'Regionname', 'Propertycount'],\n",
       "      dtype='object')"
      ]
     },
     "execution_count": 11,
     "metadata": {},
     "output_type": "execute_result"
    }
   ],
   "source": [
    "Mhousing.columns"
   ]
  },
  {
   "cell_type": "code",
   "execution_count": 12,
   "metadata": {},
   "outputs": [
    {
     "data": {
      "text/html": [
       "<div>\n",
       "<style scoped>\n",
       "    .dataframe tbody tr th:only-of-type {\n",
       "        vertical-align: middle;\n",
       "    }\n",
       "\n",
       "    .dataframe tbody tr th {\n",
       "        vertical-align: top;\n",
       "    }\n",
       "\n",
       "    .dataframe thead th {\n",
       "        text-align: right;\n",
       "    }\n",
       "</style>\n",
       "<table border=\"1\" class=\"dataframe\">\n",
       "  <thead>\n",
       "    <tr style=\"text-align: right;\">\n",
       "      <th></th>\n",
       "      <th>Rooms</th>\n",
       "      <th>Price</th>\n",
       "      <th>Distance</th>\n",
       "      <th>Postcode</th>\n",
       "      <th>Bedroom2</th>\n",
       "      <th>Bathroom</th>\n",
       "      <th>Car</th>\n",
       "      <th>Landsize</th>\n",
       "      <th>BuildingArea</th>\n",
       "      <th>YearBuilt</th>\n",
       "      <th>Lattitude</th>\n",
       "      <th>Longtitude</th>\n",
       "      <th>Propertycount</th>\n",
       "    </tr>\n",
       "  </thead>\n",
       "  <tbody>\n",
       "    <tr>\n",
       "      <th>count</th>\n",
       "      <td>34857.000000</td>\n",
       "      <td>2.724700e+04</td>\n",
       "      <td>34856.000000</td>\n",
       "      <td>34856.000000</td>\n",
       "      <td>26640.000000</td>\n",
       "      <td>26631.000000</td>\n",
       "      <td>26129.000000</td>\n",
       "      <td>23047.000000</td>\n",
       "      <td>13742.00000</td>\n",
       "      <td>15551.000000</td>\n",
       "      <td>26881.000000</td>\n",
       "      <td>26881.000000</td>\n",
       "      <td>34854.000000</td>\n",
       "    </tr>\n",
       "    <tr>\n",
       "      <th>mean</th>\n",
       "      <td>3.031012</td>\n",
       "      <td>1.050173e+06</td>\n",
       "      <td>11.184929</td>\n",
       "      <td>3116.062859</td>\n",
       "      <td>3.084647</td>\n",
       "      <td>1.624798</td>\n",
       "      <td>1.728845</td>\n",
       "      <td>593.598993</td>\n",
       "      <td>160.25640</td>\n",
       "      <td>1965.289885</td>\n",
       "      <td>-37.810634</td>\n",
       "      <td>145.001851</td>\n",
       "      <td>7572.888306</td>\n",
       "    </tr>\n",
       "    <tr>\n",
       "      <th>std</th>\n",
       "      <td>0.969933</td>\n",
       "      <td>6.414671e+05</td>\n",
       "      <td>6.788892</td>\n",
       "      <td>109.023903</td>\n",
       "      <td>0.980690</td>\n",
       "      <td>0.724212</td>\n",
       "      <td>1.010771</td>\n",
       "      <td>3398.841946</td>\n",
       "      <td>401.26706</td>\n",
       "      <td>37.328178</td>\n",
       "      <td>0.090279</td>\n",
       "      <td>0.120169</td>\n",
       "      <td>4428.090313</td>\n",
       "    </tr>\n",
       "    <tr>\n",
       "      <th>min</th>\n",
       "      <td>1.000000</td>\n",
       "      <td>8.500000e+04</td>\n",
       "      <td>0.000000</td>\n",
       "      <td>3000.000000</td>\n",
       "      <td>0.000000</td>\n",
       "      <td>0.000000</td>\n",
       "      <td>0.000000</td>\n",
       "      <td>0.000000</td>\n",
       "      <td>0.00000</td>\n",
       "      <td>1196.000000</td>\n",
       "      <td>-38.190430</td>\n",
       "      <td>144.423790</td>\n",
       "      <td>83.000000</td>\n",
       "    </tr>\n",
       "    <tr>\n",
       "      <th>25%</th>\n",
       "      <td>2.000000</td>\n",
       "      <td>6.350000e+05</td>\n",
       "      <td>6.400000</td>\n",
       "      <td>3051.000000</td>\n",
       "      <td>2.000000</td>\n",
       "      <td>1.000000</td>\n",
       "      <td>1.000000</td>\n",
       "      <td>224.000000</td>\n",
       "      <td>102.00000</td>\n",
       "      <td>1940.000000</td>\n",
       "      <td>-37.862950</td>\n",
       "      <td>144.933500</td>\n",
       "      <td>4385.000000</td>\n",
       "    </tr>\n",
       "    <tr>\n",
       "      <th>50%</th>\n",
       "      <td>3.000000</td>\n",
       "      <td>8.700000e+05</td>\n",
       "      <td>10.300000</td>\n",
       "      <td>3103.000000</td>\n",
       "      <td>3.000000</td>\n",
       "      <td>2.000000</td>\n",
       "      <td>2.000000</td>\n",
       "      <td>521.000000</td>\n",
       "      <td>136.00000</td>\n",
       "      <td>1970.000000</td>\n",
       "      <td>-37.807600</td>\n",
       "      <td>145.007800</td>\n",
       "      <td>6763.000000</td>\n",
       "    </tr>\n",
       "    <tr>\n",
       "      <th>75%</th>\n",
       "      <td>4.000000</td>\n",
       "      <td>1.295000e+06</td>\n",
       "      <td>14.000000</td>\n",
       "      <td>3156.000000</td>\n",
       "      <td>4.000000</td>\n",
       "      <td>2.000000</td>\n",
       "      <td>2.000000</td>\n",
       "      <td>670.000000</td>\n",
       "      <td>188.00000</td>\n",
       "      <td>2000.000000</td>\n",
       "      <td>-37.754100</td>\n",
       "      <td>145.071900</td>\n",
       "      <td>10412.000000</td>\n",
       "    </tr>\n",
       "    <tr>\n",
       "      <th>max</th>\n",
       "      <td>16.000000</td>\n",
       "      <td>1.120000e+07</td>\n",
       "      <td>48.100000</td>\n",
       "      <td>3978.000000</td>\n",
       "      <td>30.000000</td>\n",
       "      <td>12.000000</td>\n",
       "      <td>26.000000</td>\n",
       "      <td>433014.000000</td>\n",
       "      <td>44515.00000</td>\n",
       "      <td>2106.000000</td>\n",
       "      <td>-37.390200</td>\n",
       "      <td>145.526350</td>\n",
       "      <td>21650.000000</td>\n",
       "    </tr>\n",
       "  </tbody>\n",
       "</table>\n",
       "</div>"
      ],
      "text/plain": [
       "              Rooms         Price      Distance      Postcode      Bedroom2  \\\n",
       "count  34857.000000  2.724700e+04  34856.000000  34856.000000  26640.000000   \n",
       "mean       3.031012  1.050173e+06     11.184929   3116.062859      3.084647   \n",
       "std        0.969933  6.414671e+05      6.788892    109.023903      0.980690   \n",
       "min        1.000000  8.500000e+04      0.000000   3000.000000      0.000000   \n",
       "25%        2.000000  6.350000e+05      6.400000   3051.000000      2.000000   \n",
       "50%        3.000000  8.700000e+05     10.300000   3103.000000      3.000000   \n",
       "75%        4.000000  1.295000e+06     14.000000   3156.000000      4.000000   \n",
       "max       16.000000  1.120000e+07     48.100000   3978.000000     30.000000   \n",
       "\n",
       "           Bathroom           Car       Landsize  BuildingArea     YearBuilt  \\\n",
       "count  26631.000000  26129.000000   23047.000000   13742.00000  15551.000000   \n",
       "mean       1.624798      1.728845     593.598993     160.25640   1965.289885   \n",
       "std        0.724212      1.010771    3398.841946     401.26706     37.328178   \n",
       "min        0.000000      0.000000       0.000000       0.00000   1196.000000   \n",
       "25%        1.000000      1.000000     224.000000     102.00000   1940.000000   \n",
       "50%        2.000000      2.000000     521.000000     136.00000   1970.000000   \n",
       "75%        2.000000      2.000000     670.000000     188.00000   2000.000000   \n",
       "max       12.000000     26.000000  433014.000000   44515.00000   2106.000000   \n",
       "\n",
       "          Lattitude    Longtitude  Propertycount  \n",
       "count  26881.000000  26881.000000   34854.000000  \n",
       "mean     -37.810634    145.001851    7572.888306  \n",
       "std        0.090279      0.120169    4428.090313  \n",
       "min      -38.190430    144.423790      83.000000  \n",
       "25%      -37.862950    144.933500    4385.000000  \n",
       "50%      -37.807600    145.007800    6763.000000  \n",
       "75%      -37.754100    145.071900   10412.000000  \n",
       "max      -37.390200    145.526350   21650.000000  "
      ]
     },
     "execution_count": 12,
     "metadata": {},
     "output_type": "execute_result"
    }
   ],
   "source": [
    "Mhousing.describe()"
   ]
  },
  {
   "cell_type": "code",
   "execution_count": 13,
   "metadata": {},
   "outputs": [
    {
     "name": "stdout",
     "output_type": "stream",
     "text": [
      "Number of Numeric attributes: 13\n",
      "Number of Categorical attributes: 8\n"
     ]
    }
   ],
   "source": [
    "#4.\tFind out the number of: a.) Numeric attributes   b.) Categorical attributes:\n",
    "a=0;b=0\n",
    "for col in Mhousing:\n",
    "    if Mhousing[col].dtype!='object':\n",
    "        a=a+1\n",
    "    if Mhousing[col].dtype=='object':\n",
    "        b=b+1\n",
    "print (\"Number of Numeric attributes:\",a)\n",
    "print (\"Number of Categorical attributes:\",b)\n",
    "        \n"
   ]
  },
  {
   "cell_type": "code",
   "execution_count": 14,
   "metadata": {},
   "outputs": [
    {
     "name": "stdout",
     "output_type": "stream",
     "text": [
      "Duplicates detected in the dataset\n",
      "Number of rows before removing duplicate values 34857\n",
      "Number of rows after removing duplicate values 34856\n"
     ]
    }
   ],
   "source": [
    "#Duplicate values: Identify if the datasets have duplicate values or not and remove the duplicate values. \n",
    "#Find out the number of rows present in the dataset: a)Before removing duplicate values  b)After removing duplicate values\n",
    "\n",
    "Mhousing_dup = Mhousing.drop_duplicates()\n",
    "if len(Mhousing)!=len(Mhousing_dup):\n",
    "    print (\"Duplicates detected in the dataset\")\n",
    "    print (\"Number of rows before removing duplicate values\",len(Mhousing))\n",
    "    print (\"Number of rows after removing duplicate values\",len(Mhousing_dup))\n",
    "else:\n",
    "    print (\"Duplicates not detected\")"
   ]
  },
  {
   "cell_type": "code",
   "execution_count": 15,
   "metadata": {},
   "outputs": [
    {
     "name": "stdout",
     "output_type": "stream",
     "text": [
      "\n",
      " Price has missing values\n",
      "Number of missing values: 7610\n",
      "\n",
      " Distance has missing values\n",
      "Number of missing values: 1\n",
      "\n",
      " Postcode has missing values\n",
      "Number of missing values: 1\n",
      "\n",
      " Bedroom2 has missing values\n",
      "Number of missing values: 8217\n",
      "\n",
      " Bathroom has missing values\n",
      "Number of missing values: 8226\n",
      "\n",
      " Car has missing values\n",
      "Number of missing values: 8728\n",
      "\n",
      " Landsize has missing values\n",
      "Number of missing values: 11810\n",
      "\n",
      " BuildingArea has missing values\n",
      "Number of missing values: 21115\n",
      "\n",
      " YearBuilt has missing values\n",
      "Number of missing values: 19306\n",
      "\n",
      " CouncilArea has missing values\n",
      "Number of missing values: 3\n",
      "\n",
      " Lattitude has missing values\n",
      "Number of missing values: 7976\n",
      "\n",
      " Longtitude has missing values\n",
      "Number of missing values: 7976\n",
      "\n",
      " Regionname has missing values\n",
      "Number of missing values: 3\n",
      "\n",
      " Propertycount has missing values\n",
      "Number of missing values: 3\n"
     ]
    }
   ],
   "source": [
    "#Missing value treatment: Check which variables have missing values and use appropriate treatments. \n",
    "#For each of the variables, find the number of missing values and provide the value that they have been imputed with.\n",
    "\n",
    "#SOLUTION: Finding variables with missing values & the number of missing values for each variable\n",
    "for col in Mhousing:   \n",
    "    if (Mhousing[col].isnull().values.any()):       \n",
    "        print('\\n',col,\"has missing values\")\n",
    "        print(\"Number of missing values:\",Mhousing[col].isnull().sum())"
   ]
  },
  {
   "cell_type": "code",
   "execution_count": 16,
   "metadata": {},
   "outputs": [
    {
     "name": "stdout",
     "output_type": "stream",
     "text": [
      "No missing values for column Suburb\n",
      "No missing values for column Address\n",
      "No missing values for column Rooms\n",
      "No missing values for column Type\n",
      "No missing values for column Price\n",
      "No missing values for column Method\n",
      "No missing values for column SellerG\n",
      "No missing values for column Date\n",
      "No missing values for column Distance\n",
      "No missing values for column Postcode\n",
      "No missing values for column Bedroom2\n",
      "No missing values for column Bathroom\n",
      "No missing values for column Car\n",
      "No missing values for column Landsize\n",
      "No missing values for column BuildingArea\n",
      "No missing values for column YearBuilt\n",
      "No missing values for column CouncilArea\n",
      "No missing values for column Lattitude\n",
      "No missing values for column Longtitude\n",
      "No missing values for column Regionname\n",
      "No missing values for column Propertycount\n"
     ]
    }
   ],
   "source": [
    "#SOLUTION: Filling above missing values (mean value for numerics, 0 for Postcode and YearBuilt & 'Random' for string)\n",
    "Mhousing.Price=Mhousing.Price.fillna(1.050173e+06)\n",
    "Mhousing.Distance=Mhousing.Distance.fillna(11)\n",
    "Mhousing.Postcode=Mhousing.Postcode.fillna(0)\n",
    "Mhousing.Bedroom2=Mhousing.Bedroom2.fillna(3)\n",
    "Mhousing.Bathroom=Mhousing.Bathroom.fillna(2)\n",
    "Mhousing.Car=Mhousing.Car.fillna(2)\n",
    "Mhousing.Landsize=Mhousing.Landsize.fillna(593)\n",
    "Mhousing.BuildingArea=Mhousing.BuildingArea.fillna(160)\n",
    "Mhousing.YearBuilt=Mhousing.YearBuilt.fillna(0)\n",
    "Mhousing.CouncilArea=Mhousing.CouncilArea.fillna('Random')\n",
    "Mhousing.Lattitude=Mhousing.Lattitude.fillna(0)\n",
    "Mhousing.Longtitude=Mhousing.Longtitude.fillna(0)\n",
    "Mhousing.Regionname=Mhousing.Regionname.fillna('Random')\n",
    "Mhousing.Propertycount=Mhousing.Propertycount.fillna(0)\n",
    "\n",
    "#DATA CHECK for anymore missing values\n",
    "for col in Mhousing:   \n",
    "    if (Mhousing[col].isnull().values.any()):       \n",
    "        print('\\n',col,\"has missing values\")\n",
    "        print(\"Number of missing values:\",Mhousing[col].isnull().sum())\n",
    "    else:\n",
    "        print (\"No missing values for column\", col)"
   ]
  },
  {
   "cell_type": "code",
   "execution_count": 17,
   "metadata": {},
   "outputs": [
    {
     "data": {
      "text/plain": [
       "Suburb            object\n",
       "Address           object\n",
       "Rooms              int64\n",
       "Type              object\n",
       "Price            float64\n",
       "Method            object\n",
       "SellerG           object\n",
       "Date              object\n",
       "Distance         float64\n",
       "Postcode         float64\n",
       "Bedroom2         float64\n",
       "Bathroom         float64\n",
       "Car              float64\n",
       "Landsize         float64\n",
       "BuildingArea     float64\n",
       "YearBuilt        float64\n",
       "CouncilArea       object\n",
       "Lattitude        float64\n",
       "Longtitude       float64\n",
       "Regionname        object\n",
       "Propertycount    float64\n",
       "dtype: object"
      ]
     },
     "execution_count": 17,
     "metadata": {},
     "output_type": "execute_result"
    }
   ],
   "source": [
    "#Variable type: Check if all the variables have the correct variable type, based on the data dictionary. If not, then change them.\n",
    "#For how many attributes did you need to change the data type?\n",
    "\n",
    "#SOLUTION: Data type of each variable\n",
    "Mhousing.dtypes"
   ]
  },
  {
   "cell_type": "code",
   "execution_count": 18,
   "metadata": {},
   "outputs": [
    {
     "data": {
      "text/plain": [
       "Suburb           category\n",
       "Address            object\n",
       "Rooms               int64\n",
       "Type             category\n",
       "Price             float64\n",
       "Method           category\n",
       "SellerG          category\n",
       "Date             category\n",
       "Distance          float64\n",
       "Postcode         category\n",
       "Bedroom2          float64\n",
       "Bathroom          float64\n",
       "Car               float64\n",
       "Landsize          float64\n",
       "BuildingArea      float64\n",
       "YearBuilt         float64\n",
       "CouncilArea        object\n",
       "Lattitude         float64\n",
       "Longtitude        float64\n",
       "Regionname       category\n",
       "Propertycount    category\n",
       "dtype: object"
      ]
     },
     "execution_count": 18,
     "metadata": {},
     "output_type": "execute_result"
    }
   ],
   "source": [
    "#As per data dictionary, \n",
    "##  $ Suburb       : Factor \n",
    "##  $ Rooms        : int  \n",
    "##  $ Type         : Factor\n",
    "##  $ Price        : int  \n",
    "##  $ Method       : Factor\n",
    "##  $ SellerG      : Factor \n",
    "##  $ Date         : Factor \n",
    "##  $ Distance     : num  \n",
    "##  $ Postcode     : Factor \n",
    "##  $ Bedroom2     : int  \n",
    "##  $ Bathroom     : int  \n",
    "##  $ Car          : int  \n",
    "##  $ Landsize     : int  \n",
    "##  $ YearBuilt    : int  \n",
    "##  $ Regionname   : Factor \n",
    "##  $ Propertycount: Factor \n",
    "# where Factor in R is equivalent to Category in pandas\n",
    "\n",
    "\n",
    "#SOLUTION: collecting all columns with dtype as object & converting to category (except Address & Council Area)\n",
    "obj_columns = Mhousing.select_dtypes(['object']).columns\n",
    "cnt=0\n",
    "for col in obj_columns:\n",
    "    if (col!='Address' and col!='CouncilArea' ):\n",
    "        Mhousing[col] = Mhousing[col].astype('category')\n",
    "        cnt=cnt+1\n",
    "\n",
    "#SOLUTION: converting dtype of Postcode & Propertycount to category\n",
    "Mhousing.Postcode = Mhousing.Postcode.astype('category')\n",
    "cnt=cnt+1\n",
    "Mhousing.Propertycount = Mhousing.Propertycount.astype('category')\n",
    "cnt=cnt+1\n",
    "Mhousing.dtypes"
   ]
  },
  {
   "cell_type": "code",
   "execution_count": 19,
   "metadata": {},
   "outputs": [
    {
     "name": "stdout",
     "output_type": "stream",
     "text": [
      "Number of changes in datatype 18\n"
     ]
    },
    {
     "data": {
      "text/plain": [
       "Suburb           category\n",
       "Address            object\n",
       "Rooms               int64\n",
       "Type             category\n",
       "Price               int64\n",
       "Method           category\n",
       "SellerG          category\n",
       "Date             category\n",
       "Distance            int64\n",
       "Postcode         category\n",
       "Bedroom2            int64\n",
       "Bathroom            int64\n",
       "Car                 int64\n",
       "Landsize            int64\n",
       "BuildingArea        int64\n",
       "YearBuilt           int64\n",
       "CouncilArea        object\n",
       "Lattitude           int64\n",
       "Longtitude          int64\n",
       "Regionname       category\n",
       "Propertycount    category\n",
       "dtype: object"
      ]
     },
     "execution_count": 19,
     "metadata": {},
     "output_type": "execute_result"
    }
   ],
   "source": [
    "#SOLUTION: collecting all columns with dtype as float64 & converting to int64 \n",
    "fl_columns = Mhousing.select_dtypes(['float64']).columns\n",
    "for col in fl_columns:\n",
    "    Mhousing[col] = Mhousing[col].astype('int64')\n",
    "    cnt=cnt+1\n",
    "\n",
    "#Count \n",
    "print(\"Number of changes in datatype\",cnt)\n",
    "Mhousing.dtypes"
   ]
  },
  {
   "cell_type": "code",
   "execution_count": 20,
   "metadata": {},
   "outputs": [
    {
     "data": {
      "text/html": [
       "<div>\n",
       "<style scoped>\n",
       "    .dataframe tbody tr th:only-of-type {\n",
       "        vertical-align: middle;\n",
       "    }\n",
       "\n",
       "    .dataframe tbody tr th {\n",
       "        vertical-align: top;\n",
       "    }\n",
       "\n",
       "    .dataframe thead th {\n",
       "        text-align: right;\n",
       "    }\n",
       "</style>\n",
       "<table border=\"1\" class=\"dataframe\">\n",
       "  <thead>\n",
       "    <tr style=\"text-align: right;\">\n",
       "      <th></th>\n",
       "      <th>Rooms</th>\n",
       "      <th>Price</th>\n",
       "      <th>Distance</th>\n",
       "      <th>Bedroom2</th>\n",
       "      <th>Bathroom</th>\n",
       "      <th>Car</th>\n",
       "      <th>Landsize</th>\n",
       "      <th>BuildingArea</th>\n",
       "      <th>YearBuilt</th>\n",
       "      <th>Lattitude</th>\n",
       "      <th>Longtitude</th>\n",
       "    </tr>\n",
       "  </thead>\n",
       "  <tbody>\n",
       "    <tr>\n",
       "      <th>0</th>\n",
       "      <td>2</td>\n",
       "      <td>1050173</td>\n",
       "      <td>2</td>\n",
       "      <td>2</td>\n",
       "      <td>1</td>\n",
       "      <td>1</td>\n",
       "      <td>126</td>\n",
       "      <td>160</td>\n",
       "      <td>0</td>\n",
       "      <td>-37</td>\n",
       "      <td>144</td>\n",
       "    </tr>\n",
       "    <tr>\n",
       "      <th>1</th>\n",
       "      <td>2</td>\n",
       "      <td>1480000</td>\n",
       "      <td>2</td>\n",
       "      <td>2</td>\n",
       "      <td>1</td>\n",
       "      <td>1</td>\n",
       "      <td>202</td>\n",
       "      <td>160</td>\n",
       "      <td>0</td>\n",
       "      <td>-37</td>\n",
       "      <td>144</td>\n",
       "    </tr>\n",
       "    <tr>\n",
       "      <th>2</th>\n",
       "      <td>2</td>\n",
       "      <td>1035000</td>\n",
       "      <td>2</td>\n",
       "      <td>2</td>\n",
       "      <td>1</td>\n",
       "      <td>0</td>\n",
       "      <td>156</td>\n",
       "      <td>79</td>\n",
       "      <td>1900</td>\n",
       "      <td>-37</td>\n",
       "      <td>144</td>\n",
       "    </tr>\n",
       "    <tr>\n",
       "      <th>3</th>\n",
       "      <td>3</td>\n",
       "      <td>1050173</td>\n",
       "      <td>2</td>\n",
       "      <td>3</td>\n",
       "      <td>2</td>\n",
       "      <td>1</td>\n",
       "      <td>0</td>\n",
       "      <td>160</td>\n",
       "      <td>0</td>\n",
       "      <td>-37</td>\n",
       "      <td>145</td>\n",
       "    </tr>\n",
       "    <tr>\n",
       "      <th>4</th>\n",
       "      <td>3</td>\n",
       "      <td>1465000</td>\n",
       "      <td>2</td>\n",
       "      <td>3</td>\n",
       "      <td>2</td>\n",
       "      <td>0</td>\n",
       "      <td>134</td>\n",
       "      <td>150</td>\n",
       "      <td>1900</td>\n",
       "      <td>-37</td>\n",
       "      <td>144</td>\n",
       "    </tr>\n",
       "    <tr>\n",
       "      <th>...</th>\n",
       "      <td>...</td>\n",
       "      <td>...</td>\n",
       "      <td>...</td>\n",
       "      <td>...</td>\n",
       "      <td>...</td>\n",
       "      <td>...</td>\n",
       "      <td>...</td>\n",
       "      <td>...</td>\n",
       "      <td>...</td>\n",
       "      <td>...</td>\n",
       "      <td>...</td>\n",
       "    </tr>\n",
       "    <tr>\n",
       "      <th>34852</th>\n",
       "      <td>4</td>\n",
       "      <td>1480000</td>\n",
       "      <td>6</td>\n",
       "      <td>4</td>\n",
       "      <td>1</td>\n",
       "      <td>3</td>\n",
       "      <td>593</td>\n",
       "      <td>160</td>\n",
       "      <td>0</td>\n",
       "      <td>-37</td>\n",
       "      <td>144</td>\n",
       "    </tr>\n",
       "    <tr>\n",
       "      <th>34853</th>\n",
       "      <td>2</td>\n",
       "      <td>888000</td>\n",
       "      <td>6</td>\n",
       "      <td>2</td>\n",
       "      <td>2</td>\n",
       "      <td>1</td>\n",
       "      <td>98</td>\n",
       "      <td>104</td>\n",
       "      <td>2018</td>\n",
       "      <td>-37</td>\n",
       "      <td>144</td>\n",
       "    </tr>\n",
       "    <tr>\n",
       "      <th>34854</th>\n",
       "      <td>2</td>\n",
       "      <td>705000</td>\n",
       "      <td>6</td>\n",
       "      <td>2</td>\n",
       "      <td>1</td>\n",
       "      <td>2</td>\n",
       "      <td>220</td>\n",
       "      <td>120</td>\n",
       "      <td>2000</td>\n",
       "      <td>-37</td>\n",
       "      <td>144</td>\n",
       "    </tr>\n",
       "    <tr>\n",
       "      <th>34855</th>\n",
       "      <td>3</td>\n",
       "      <td>1140000</td>\n",
       "      <td>6</td>\n",
       "      <td>3</td>\n",
       "      <td>2</td>\n",
       "      <td>2</td>\n",
       "      <td>593</td>\n",
       "      <td>160</td>\n",
       "      <td>0</td>\n",
       "      <td>0</td>\n",
       "      <td>0</td>\n",
       "    </tr>\n",
       "    <tr>\n",
       "      <th>34856</th>\n",
       "      <td>2</td>\n",
       "      <td>1020000</td>\n",
       "      <td>6</td>\n",
       "      <td>2</td>\n",
       "      <td>1</td>\n",
       "      <td>0</td>\n",
       "      <td>250</td>\n",
       "      <td>103</td>\n",
       "      <td>1930</td>\n",
       "      <td>-37</td>\n",
       "      <td>144</td>\n",
       "    </tr>\n",
       "  </tbody>\n",
       "</table>\n",
       "<p>34857 rows × 11 columns</p>\n",
       "</div>"
      ],
      "text/plain": [
       "       Rooms    Price  Distance  Bedroom2  Bathroom  Car  Landsize  \\\n",
       "0          2  1050173         2         2         1    1       126   \n",
       "1          2  1480000         2         2         1    1       202   \n",
       "2          2  1035000         2         2         1    0       156   \n",
       "3          3  1050173         2         3         2    1         0   \n",
       "4          3  1465000         2         3         2    0       134   \n",
       "...      ...      ...       ...       ...       ...  ...       ...   \n",
       "34852      4  1480000         6         4         1    3       593   \n",
       "34853      2   888000         6         2         2    1        98   \n",
       "34854      2   705000         6         2         1    2       220   \n",
       "34855      3  1140000         6         3         2    2       593   \n",
       "34856      2  1020000         6         2         1    0       250   \n",
       "\n",
       "       BuildingArea  YearBuilt  Lattitude  Longtitude  \n",
       "0               160          0        -37         144  \n",
       "1               160          0        -37         144  \n",
       "2                79       1900        -37         144  \n",
       "3               160          0        -37         145  \n",
       "4               150       1900        -37         144  \n",
       "...             ...        ...        ...         ...  \n",
       "34852           160          0        -37         144  \n",
       "34853           104       2018        -37         144  \n",
       "34854           120       2000        -37         144  \n",
       "34855           160          0          0           0  \n",
       "34856           103       1930        -37         144  \n",
       "\n",
       "[34857 rows x 11 columns]"
      ]
     },
     "execution_count": 20,
     "metadata": {},
     "output_type": "execute_result"
    }
   ],
   "source": [
    "#Outlier Treatment: \n",
    "#Identify the varibales : Make a subset of the dataset with all the numeric variables. \n",
    "#Outliers : For each variable of this subset, carry out the outlier detection.\n",
    "#           Find out the percentile distribution of each variable and carry out capping and flooring for outlier values.  \n",
    "\n",
    "#SOLUTION :a subset of the dataset with data tyep as int64. \n",
    "Mhousing_num=Mhousing.select_dtypes(['int64'])\n",
    "Mhousing_num"
   ]
  },
  {
   "cell_type": "code",
   "execution_count": 21,
   "metadata": {},
   "outputs": [
    {
     "name": "stdout",
     "output_type": "stream",
     "text": [
      "      Rooms      Price  Distance  Bedroom2  Bathroom  Car  Landsize  \\\n",
      "0.01    1.0   320000.0       1.0       1.0       1.0  0.0      0.00   \n",
      "0.02    1.0   363000.0       1.0       1.0       1.0  0.0      0.00   \n",
      "0.03    1.0   393000.0       2.0       2.0       1.0  0.0      0.00   \n",
      "0.04    1.0   417000.0       2.0       2.0       1.0  0.0      0.00   \n",
      "0.05    2.0   439000.0       2.0       2.0       1.0  1.0      0.00   \n",
      "0.10    2.0   519000.0       3.0       2.0       1.0  1.0    133.00   \n",
      "0.20    2.0   640000.0       5.0       3.0       1.0  1.0    278.00   \n",
      "0.40    3.0   885000.0       8.0       3.0       2.0  2.0    589.00   \n",
      "0.50    3.0  1050173.0      10.0       3.0       2.0  2.0    593.00   \n",
      "0.95    5.0  2055000.0      24.0       4.0       3.0  3.0    882.00   \n",
      "0.96    5.0  2220760.0      25.0       5.0       3.0  4.0    943.00   \n",
      "0.99    5.0  3225000.0      35.0       5.0       4.0  5.0   2030.76   \n",
      "\n",
      "      BuildingArea  YearBuilt  Lattitude  Longtitude  \n",
      "0.01         41.56        0.0      -38.0         0.0  \n",
      "0.02         56.00        0.0      -37.0         0.0  \n",
      "0.03         66.00        0.0      -37.0         0.0  \n",
      "0.04         73.00        0.0      -37.0         0.0  \n",
      "0.05         79.00        0.0      -37.0         0.0  \n",
      "0.10        102.00        0.0      -37.0         0.0  \n",
      "0.20        137.00        0.0      -37.0         0.0  \n",
      "0.40        160.00        0.0      -37.0       144.0  \n",
      "0.50        160.00        0.0      -37.0       144.0  \n",
      "0.95        240.00     2010.0        0.0       145.0  \n",
      "0.96        256.76     2011.0        0.0       145.0  \n",
      "0.99        367.00     2015.0        0.0       145.0  \n"
     ]
    },
    {
     "data": {
      "text/plain": [
       "<matplotlib.axes._subplots.AxesSubplot at 0x27388c80e08>"
      ]
     },
     "execution_count": 21,
     "metadata": {},
     "output_type": "execute_result"
    },
    {
     "data": {
      "image/png": "[encoded data removed]",
      "text/plain": [
       "<Figure size 432x288 with 1 Axes>"
      ]
     },
     "metadata": {
      "needs_background": "light"
     },
     "output_type": "display_data"
    }
   ],
   "source": [
    "#SOLUTION:sample percentile distribution\n",
    "print(Mhousing_num.quantile([.01,.02,.03,.04,.05,.1,.2,.4,.5,.95,.96,.99] ))\n",
    "\n",
    "#SOLUTION:sample BoxPlot for variable \"Rooms\"\n",
    "import seaborn as sns\n",
    "sns.boxplot(x=Mhousing_num['Rooms'])"
   ]
  },
  {
   "cell_type": "code",
   "execution_count": 22,
   "metadata": {},
   "outputs": [
    {
     "data": {
      "text/plain": [
       "<matplotlib.axes._subplots.AxesSubplot at 0x2738a7fd188>"
      ]
     },
     "execution_count": 22,
     "metadata": {},
     "output_type": "execute_result"
    },
    {
     "data": {
      "image/png": "[encoded data removed]",
      "text/plain": [
       "<Figure size 432x288 with 1 Axes>"
      ]
     },
     "metadata": {
      "needs_background": "light"
     },
     "output_type": "display_data"
    }
   ],
   "source": [
    "sns.boxplot(x=Mhousing_num['Distance'])"
   ]
  },
  {
   "cell_type": "code",
   "execution_count": 23,
   "metadata": {},
   "outputs": [
    {
     "data": {
      "text/plain": [
       "<matplotlib.axes._subplots.AxesSubplot at 0x2738a884448>"
      ]
     },
     "execution_count": 23,
     "metadata": {},
     "output_type": "execute_result"
    },
    {
     "data": {
      "image/png": "[encoded data removed]",
      "text/plain": [
       "<Figure size 432x288 with 1 Axes>"
      ]
     },
     "metadata": {
      "needs_background": "light"
     },
     "output_type": "display_data"
    }
   ],
   "source": [
    "sns.boxplot(x=Mhousing_num['Price'])"
   ]
  },
  {
   "cell_type": "code",
   "execution_count": 24,
   "metadata": {},
   "outputs": [
    {
     "data": {
      "text/plain": [
       "<matplotlib.axes._subplots.AxesSubplot at 0x2738a8e5e48>"
      ]
     },
     "execution_count": 24,
     "metadata": {},
     "output_type": "execute_result"
    },
    {
     "data": {
      "image/png": "[encoded data removed]",
      "text/plain": [
       "<Figure size 432x288 with 1 Axes>"
      ]
     },
     "metadata": {
      "needs_background": "light"
     },
     "output_type": "display_data"
    }
   ],
   "source": [
    "sns.boxplot(x=Mhousing_num['Bedroom2'])"
   ]
  },
  {
   "cell_type": "code",
   "execution_count": 25,
   "metadata": {},
   "outputs": [
    {
     "data": {
      "text/plain": [
       "<matplotlib.axes._subplots.AxesSubplot at 0x2738a958948>"
      ]
     },
     "execution_count": 25,
     "metadata": {},
     "output_type": "execute_result"
    },
    {
     "data": {
      "image/png": "[encoded data removed]",
      "text/plain": [
       "<Figure size 432x288 with 1 Axes>"
      ]
     },
     "metadata": {
      "needs_background": "light"
     },
     "output_type": "display_data"
    }
   ],
   "source": [
    "sns.boxplot(x=Mhousing_num['Bathroom'])"
   ]
  },
  {
   "cell_type": "code",
   "execution_count": 26,
   "metadata": {},
   "outputs": [
    {
     "data": {
      "text/plain": [
       "<matplotlib.axes._subplots.AxesSubplot at 0x2738a9c2c88>"
      ]
     },
     "execution_count": 26,
     "metadata": {},
     "output_type": "execute_result"
    },
    {
     "data": {
      "image/png": "[encoded data removed]",
      "text/plain": [
       "<Figure size 432x288 with 1 Axes>"
      ]
     },
     "metadata": {
      "needs_background": "light"
     },
     "output_type": "display_data"
    }
   ],
   "source": [
    "sns.boxplot(x=Mhousing_num['Car'])"
   ]
  },
  {
   "cell_type": "code",
   "execution_count": 27,
   "metadata": {},
   "outputs": [
    {
     "data": {
      "text/plain": [
       "<matplotlib.axes._subplots.AxesSubplot at 0x2738aa26e88>"
      ]
     },
     "execution_count": 27,
     "metadata": {},
     "output_type": "execute_result"
    },
    {
     "data": {
      "image/png": "[encoded data removed]",
      "text/plain": [
       "<Figure size 432x288 with 1 Axes>"
      ]
     },
     "metadata": {
      "needs_background": "light"
     },
     "output_type": "display_data"
    }
   ],
   "source": [
    "sns.boxplot(x=Mhousing_num['Landsize'])"
   ]
  },
  {
   "cell_type": "code",
   "execution_count": 28,
   "metadata": {},
   "outputs": [
    {
     "data": {
      "text/plain": [
       "<matplotlib.axes._subplots.AxesSubplot at 0x2738aa82e48>"
      ]
     },
     "execution_count": 28,
     "metadata": {},
     "output_type": "execute_result"
    },
    {
     "data": {
      "image/png": "[encoded data removed]",
      "text/plain": [
       "<Figure size 432x288 with 1 Axes>"
      ]
     },
     "metadata": {
      "needs_background": "light"
     },
     "output_type": "display_data"
    }
   ],
   "source": [
    "sns.boxplot(x=Mhousing_num['BuildingArea'])"
   ]
  },
  {
   "cell_type": "code",
   "execution_count": 29,
   "metadata": {},
   "outputs": [
    {
     "name": "stdout",
     "output_type": "stream",
     "text": [
      "\n",
      "\n",
      "Outlier Treatment for  Rooms\n",
      "IQR for  Rooms = 2.0\n",
      "Floor for  Rooms = 1.0\n",
      "Cap for  Rooms = 7.0\n",
      "\n",
      "\n",
      "Outlier Treatment for  Price\n",
      "IQR for  Price = 455000.0\n",
      "Floor for  Price = -12500.0\n",
      "Cap for  Price = 1832500.0\n",
      "(32301, 11)\n",
      "\n",
      "\n",
      "Outlier Treatment for  Distance\n",
      "IQR for  Distance = 8.0\n",
      "Floor for  Distance = 6.0\n",
      "Cap for  Distance = 26.0\n",
      "\n",
      "\n",
      "Outlier Treatment for  Bedroom2\n",
      "IQR for  Bedroom2 = 0.0\n",
      "Floor for  Bedroom2 = -3.0\n",
      "Cap for  Bedroom2 = 3.0\n",
      "\n",
      "\n",
      "Outlier Treatment for  Bathroom\n",
      "IQR for  Bathroom = 1.0\n",
      "Floor for  Bathroom = 0.5\n",
      "Cap for  Bathroom = 3.5\n",
      "\n",
      "\n",
      "Outlier Treatment for  Car\n",
      "IQR for  Car = 1.0\n",
      "Floor for  Car = 0.5\n",
      "Cap for  Car = 3.5\n",
      "\n",
      "\n",
      "Outlier Treatment for  Landsize\n",
      "IQR for  Landsize = 250.0\n",
      "Floor for  Landsize = 32.0\n",
      "Cap for  Landsize = 968.0\n",
      "\n",
      "\n",
      "Outlier Treatment for  BuildingArea\n",
      "IQR for  BuildingArea = 7.0\n",
      "Floor for  BuildingArea = -142.5\n",
      "Cap for  BuildingArea = 170.5\n",
      "\n",
      "\n",
      "Outlier Treatment for  YearBuilt\n",
      "IQR for  YearBuilt = 1966.0\n",
      "Floor for  YearBuilt = 2949.0\n",
      "Cap for  YearBuilt = 4915.0\n"
     ]
    }
   ],
   "source": [
    "#SOLUTION: Outlier Detection & Capping and Flooring of Outlier Values using IQR method.\n",
    " \n",
    "\n",
    "for col in Mhousing_num:\n",
    "    #As Lattitude & Longitude will not affect the Price, not considering them for Outlier treatment\n",
    "    if col!='Lattitude' and col!='Longtitude':\n",
    "        print(\"\\n\\nOutlier Treatment for \",col)\n",
    "       \n",
    "        #Outlier Detection using IQR method where Cap=IQ3+1.5*IQR & Floor=1.5*IQR-IQ1\n",
    "        Q1 = Mhousing_num[col].quantile(0.25)\n",
    "        Q3 = Mhousing_num[col].quantile(0.75)\n",
    "        IQR = Q3 - Q1\n",
    "        print(\"IQR for \",col,\"=\",IQR)\n",
    "        limit=1.5*IQR\n",
    "        floor = limit - Q1\n",
    "        print(\"Floor for \",col,\"=\",floor)\n",
    "        Cap = Q3 + limit\n",
    "        print(\"Cap for \",col,\"=\",Cap)\n",
    "        \n",
    "        #Removal of Outlier Values. i.e values less than (1.5*IQR-Q1) and more than (1.5*IQR+Q3) are removed.\n",
    "        #Large number of Outliers are detected for Price. So Removing Outlier values for Price.\n",
    "        if col=='Price':\n",
    "            Mhousing_num=Mhousing_num[(Mhousing_num[col]>=floor)&(Mhousing_num[col]<=Cap)]\n",
    "            print(Mhousing_num.shape)"
   ]
  },
  {
   "cell_type": "code",
   "execution_count": 30,
   "metadata": {},
   "outputs": [
    {
     "data": {
      "text/plain": [
       "[<matplotlib.lines.Line2D at 0x2738ab1f408>]"
      ]
     },
     "execution_count": 30,
     "metadata": {},
     "output_type": "execute_result"
    },
    {
     "data": {
      "image/png": "[encoded data removed]",
      "text/plain": [
       "<Figure size 432x288 with 1 Axes>"
      ]
     },
     "metadata": {},
     "output_type": "display_data"
    }
   ],
   "source": [
    "#Identify variables that have non-linear trends. How many variables have non-linear trends? Transform them (as required)\n",
    "plt.style.use('seaborn-whitegrid')\n",
    "x=Mhousing_num['Rooms']\n",
    "y=Mhousing_num['Price']\n",
    "plt.plot(x,y,'o',color='black')"
   ]
  },
  {
   "cell_type": "code",
   "execution_count": 31,
   "metadata": {},
   "outputs": [
    {
     "data": {
      "text/plain": [
       "[<matplotlib.lines.Line2D at 0x2738ae46648>]"
      ]
     },
     "execution_count": 31,
     "metadata": {},
     "output_type": "execute_result"
    },
    {
     "data": {
      "image/png": "[encoded data removed]",
      "text/plain": [
       "<Figure size 432x288 with 1 Axes>"
      ]
     },
     "metadata": {},
     "output_type": "display_data"
    }
   ],
   "source": [
    "x=Mhousing_num['Bedroom2']\n",
    "plt.plot(x,y,'o',color='black')"
   ]
  },
  {
   "cell_type": "code",
   "execution_count": 32,
   "metadata": {},
   "outputs": [
    {
     "data": {
      "text/plain": [
       "[<matplotlib.lines.Line2D at 0x2738ae96108>]"
      ]
     },
     "execution_count": 32,
     "metadata": {},
     "output_type": "execute_result"
    },
    {
     "data": {
      "image/png": "[encoded data removed]",
      "text/plain": [
       "<Figure size 432x288 with 1 Axes>"
      ]
     },
     "metadata": {},
     "output_type": "display_data"
    }
   ],
   "source": [
    "x=Mhousing_num['Bathroom']\n",
    "plt.plot(x,y,'o',color='black')"
   ]
  },
  {
   "cell_type": "code",
   "execution_count": 33,
   "metadata": {},
   "outputs": [
    {
     "data": {
      "text/plain": [
       "[<matplotlib.lines.Line2D at 0x2738af1eec8>]"
      ]
     },
     "execution_count": 33,
     "metadata": {},
     "output_type": "execute_result"
    },
    {
     "data": {
      "image/png": "[encoded data removed]",
      "text/plain": [
       "<Figure size 432x288 with 1 Axes>"
      ]
     },
     "metadata": {},
     "output_type": "display_data"
    }
   ],
   "source": [
    "x=Mhousing_num['Car']\n",
    "plt.plot(x,y,'o',color='black')"
   ]
  },
  {
   "cell_type": "code",
   "execution_count": 34,
   "metadata": {},
   "outputs": [
    {
     "data": {
      "text/plain": [
       "[<matplotlib.lines.Line2D at 0x2738af54e08>]"
      ]
     },
     "execution_count": 34,
     "metadata": {},
     "output_type": "execute_result"
    },
    {
     "data": {
      "image/png": "[encoded data removed]",
      "text/plain": [
       "<Figure size 432x288 with 1 Axes>"
      ]
     },
     "metadata": {},
     "output_type": "display_data"
    }
   ],
   "source": [
    "x=Mhousing_num['Landsize']\n",
    "plt.plot(x,y,'o',color='black')"
   ]
  },
  {
   "cell_type": "code",
   "execution_count": 35,
   "metadata": {},
   "outputs": [
    {
     "data": {
      "text/plain": [
       "[<matplotlib.lines.Line2D at 0x2738affdf08>]"
      ]
     },
     "execution_count": 35,
     "metadata": {},
     "output_type": "execute_result"
    },
    {
     "data": {
      "image/png": "[encoded data removed]",
      "text/plain": [
       "<Figure size 432x288 with 1 Axes>"
      ]
     },
     "metadata": {},
     "output_type": "display_data"
    }
   ],
   "source": [
    "x=Mhousing_num['BuildingArea']\n",
    "plt.plot(x,y,'o',color='black')"
   ]
  },
  {
   "cell_type": "code",
   "execution_count": 36,
   "metadata": {},
   "outputs": [
    {
     "data": {
      "text/html": [
       "<div>\n",
       "<style scoped>\n",
       "    .dataframe tbody tr th:only-of-type {\n",
       "        vertical-align: middle;\n",
       "    }\n",
       "\n",
       "    .dataframe tbody tr th {\n",
       "        vertical-align: top;\n",
       "    }\n",
       "\n",
       "    .dataframe thead th {\n",
       "        text-align: right;\n",
       "    }\n",
       "</style>\n",
       "<table border=\"1\" class=\"dataframe\">\n",
       "  <thead>\n",
       "    <tr style=\"text-align: right;\">\n",
       "      <th></th>\n",
       "      <th>Rooms</th>\n",
       "      <th>Price</th>\n",
       "      <th>Distance</th>\n",
       "      <th>Bedroom2</th>\n",
       "      <th>Bathroom</th>\n",
       "      <th>Car</th>\n",
       "      <th>Landsize</th>\n",
       "      <th>BuildingArea</th>\n",
       "      <th>YearBuilt</th>\n",
       "      <th>Lattitude</th>\n",
       "      <th>Longtitude</th>\n",
       "    </tr>\n",
       "  </thead>\n",
       "  <tbody>\n",
       "    <tr>\n",
       "      <th>Rooms</th>\n",
       "      <td>1.000000</td>\n",
       "      <td>0.380622</td>\n",
       "      <td>0.319526</td>\n",
       "      <td>0.815368</td>\n",
       "      <td>0.446528</td>\n",
       "      <td>0.309311</td>\n",
       "      <td>0.053969</td>\n",
       "      <td>0.086347</td>\n",
       "      <td>0.061899</td>\n",
       "      <td>-0.123422</td>\n",
       "      <td>0.123879</td>\n",
       "    </tr>\n",
       "    <tr>\n",
       "      <th>Price</th>\n",
       "      <td>0.380622</td>\n",
       "      <td>1.000000</td>\n",
       "      <td>-0.165154</td>\n",
       "      <td>0.285760</td>\n",
       "      <td>0.173880</td>\n",
       "      <td>0.098355</td>\n",
       "      <td>0.016094</td>\n",
       "      <td>0.046019</td>\n",
       "      <td>0.004251</td>\n",
       "      <td>-0.112159</td>\n",
       "      <td>0.113773</td>\n",
       "    </tr>\n",
       "    <tr>\n",
       "      <th>Distance</th>\n",
       "      <td>0.319526</td>\n",
       "      <td>-0.165154</td>\n",
       "      <td>1.000000</td>\n",
       "      <td>0.281482</td>\n",
       "      <td>0.135119</td>\n",
       "      <td>0.222879</td>\n",
       "      <td>0.104025</td>\n",
       "      <td>0.055393</td>\n",
       "      <td>0.005122</td>\n",
       "      <td>-0.031815</td>\n",
       "      <td>0.030179</td>\n",
       "    </tr>\n",
       "    <tr>\n",
       "      <th>Bedroom2</th>\n",
       "      <td>0.815368</td>\n",
       "      <td>0.285760</td>\n",
       "      <td>0.281482</td>\n",
       "      <td>1.000000</td>\n",
       "      <td>0.564183</td>\n",
       "      <td>0.373310</td>\n",
       "      <td>0.062880</td>\n",
       "      <td>0.097622</td>\n",
       "      <td>0.000087</td>\n",
       "      <td>-0.007770</td>\n",
       "      <td>0.008283</td>\n",
       "    </tr>\n",
       "    <tr>\n",
       "      <th>Bathroom</th>\n",
       "      <td>0.446528</td>\n",
       "      <td>0.173880</td>\n",
       "      <td>0.135119</td>\n",
       "      <td>0.564183</td>\n",
       "      <td>1.000000</td>\n",
       "      <td>0.319768</td>\n",
       "      <td>0.045109</td>\n",
       "      <td>0.090594</td>\n",
       "      <td>-0.090649</td>\n",
       "      <td>0.294638</td>\n",
       "      <td>-0.294106</td>\n",
       "    </tr>\n",
       "    <tr>\n",
       "      <th>Car</th>\n",
       "      <td>0.309311</td>\n",
       "      <td>0.098355</td>\n",
       "      <td>0.222879</td>\n",
       "      <td>0.373310</td>\n",
       "      <td>0.319768</td>\n",
       "      <td>1.000000</td>\n",
       "      <td>0.070678</td>\n",
       "      <td>0.068776</td>\n",
       "      <td>-0.099578</td>\n",
       "      <td>0.143990</td>\n",
       "      <td>-0.143784</td>\n",
       "    </tr>\n",
       "    <tr>\n",
       "      <th>Landsize</th>\n",
       "      <td>0.053969</td>\n",
       "      <td>0.016094</td>\n",
       "      <td>0.104025</td>\n",
       "      <td>0.062880</td>\n",
       "      <td>0.045109</td>\n",
       "      <td>0.070678</td>\n",
       "      <td>1.000000</td>\n",
       "      <td>0.162780</td>\n",
       "      <td>-0.025846</td>\n",
       "      <td>0.006914</td>\n",
       "      <td>-0.006951</td>\n",
       "    </tr>\n",
       "    <tr>\n",
       "      <th>BuildingArea</th>\n",
       "      <td>0.086347</td>\n",
       "      <td>0.046019</td>\n",
       "      <td>0.055393</td>\n",
       "      <td>0.097622</td>\n",
       "      <td>0.090594</td>\n",
       "      <td>0.068776</td>\n",
       "      <td>0.162780</td>\n",
       "      <td>1.000000</td>\n",
       "      <td>-0.032140</td>\n",
       "      <td>0.006482</td>\n",
       "      <td>-0.006442</td>\n",
       "    </tr>\n",
       "    <tr>\n",
       "      <th>YearBuilt</th>\n",
       "      <td>0.061899</td>\n",
       "      <td>0.004251</td>\n",
       "      <td>0.005122</td>\n",
       "      <td>0.000087</td>\n",
       "      <td>-0.090649</td>\n",
       "      <td>-0.099578</td>\n",
       "      <td>-0.025846</td>\n",
       "      <td>-0.032140</td>\n",
       "      <td>1.000000</td>\n",
       "      <td>-0.491663</td>\n",
       "      <td>0.491427</td>\n",
       "    </tr>\n",
       "    <tr>\n",
       "      <th>Lattitude</th>\n",
       "      <td>-0.123422</td>\n",
       "      <td>-0.112159</td>\n",
       "      <td>-0.031815</td>\n",
       "      <td>-0.007770</td>\n",
       "      <td>0.294638</td>\n",
       "      <td>0.143990</td>\n",
       "      <td>0.006914</td>\n",
       "      <td>0.006482</td>\n",
       "      <td>-0.491663</td>\n",
       "      <td>1.000000</td>\n",
       "      <td>-0.999949</td>\n",
       "    </tr>\n",
       "    <tr>\n",
       "      <th>Longtitude</th>\n",
       "      <td>0.123879</td>\n",
       "      <td>0.113773</td>\n",
       "      <td>0.030179</td>\n",
       "      <td>0.008283</td>\n",
       "      <td>-0.294106</td>\n",
       "      <td>-0.143784</td>\n",
       "      <td>-0.006951</td>\n",
       "      <td>-0.006442</td>\n",
       "      <td>0.491427</td>\n",
       "      <td>-0.999949</td>\n",
       "      <td>1.000000</td>\n",
       "    </tr>\n",
       "  </tbody>\n",
       "</table>\n",
       "</div>"
      ],
      "text/plain": [
       "                 Rooms     Price  Distance  Bedroom2  Bathroom       Car  \\\n",
       "Rooms         1.000000  0.380622  0.319526  0.815368  0.446528  0.309311   \n",
       "Price         0.380622  1.000000 -0.165154  0.285760  0.173880  0.098355   \n",
       "Distance      0.319526 -0.165154  1.000000  0.281482  0.135119  0.222879   \n",
       "Bedroom2      0.815368  0.285760  0.281482  1.000000  0.564183  0.373310   \n",
       "Bathroom      0.446528  0.173880  0.135119  0.564183  1.000000  0.319768   \n",
       "Car           0.309311  0.098355  0.222879  0.373310  0.319768  1.000000   \n",
       "Landsize      0.053969  0.016094  0.104025  0.062880  0.045109  0.070678   \n",
       "BuildingArea  0.086347  0.046019  0.055393  0.097622  0.090594  0.068776   \n",
       "YearBuilt     0.061899  0.004251  0.005122  0.000087 -0.090649 -0.099578   \n",
       "Lattitude    -0.123422 -0.112159 -0.031815 -0.007770  0.294638  0.143990   \n",
       "Longtitude    0.123879  0.113773  0.030179  0.008283 -0.294106 -0.143784   \n",
       "\n",
       "              Landsize  BuildingArea  YearBuilt  Lattitude  Longtitude  \n",
       "Rooms         0.053969      0.086347   0.061899  -0.123422    0.123879  \n",
       "Price         0.016094      0.046019   0.004251  -0.112159    0.113773  \n",
       "Distance      0.104025      0.055393   0.005122  -0.031815    0.030179  \n",
       "Bedroom2      0.062880      0.097622   0.000087  -0.007770    0.008283  \n",
       "Bathroom      0.045109      0.090594  -0.090649   0.294638   -0.294106  \n",
       "Car           0.070678      0.068776  -0.099578   0.143990   -0.143784  \n",
       "Landsize      1.000000      0.162780  -0.025846   0.006914   -0.006951  \n",
       "BuildingArea  0.162780      1.000000  -0.032140   0.006482   -0.006442  \n",
       "YearBuilt    -0.025846     -0.032140   1.000000  -0.491663    0.491427  \n",
       "Lattitude     0.006914      0.006482  -0.491663   1.000000   -0.999949  \n",
       "Longtitude   -0.006951     -0.006442   0.491427  -0.999949    1.000000  "
      ]
     },
     "execution_count": 36,
     "metadata": {},
     "output_type": "execute_result"
    }
   ],
   "source": [
    "Mhousing_num.corr()"
   ]
  },
  {
   "cell_type": "code",
   "execution_count": 37,
   "metadata": {},
   "outputs": [
    {
     "name": "stderr",
     "output_type": "stream",
     "text": [
      "D:\\Anaconda2021\\lib\\site-packages\\pandas\\core\\series.py:679: RuntimeWarning: divide by zero encountered in log\n",
      "  result = getattr(ufunc, method)(*inputs, **kwargs)\n"
     ]
    },
    {
     "data": {
      "text/html": [
       "<div>\n",
       "<style scoped>\n",
       "    .dataframe tbody tr th:only-of-type {\n",
       "        vertical-align: middle;\n",
       "    }\n",
       "\n",
       "    .dataframe tbody tr th {\n",
       "        vertical-align: top;\n",
       "    }\n",
       "\n",
       "    .dataframe thead th {\n",
       "        text-align: right;\n",
       "    }\n",
       "</style>\n",
       "<table border=\"1\" class=\"dataframe\">\n",
       "  <thead>\n",
       "    <tr style=\"text-align: right;\">\n",
       "      <th></th>\n",
       "      <th>Price</th>\n",
       "      <th>Landsize</th>\n",
       "      <th>BuildingArea</th>\n",
       "      <th>logLS</th>\n",
       "      <th>LS^2</th>\n",
       "      <th>LS^3</th>\n",
       "      <th>LSsqrt</th>\n",
       "      <th>logBA</th>\n",
       "      <th>BA^2</th>\n",
       "      <th>BA^3</th>\n",
       "      <th>BAsqrt</th>\n",
       "    </tr>\n",
       "  </thead>\n",
       "  <tbody>\n",
       "    <tr>\n",
       "      <th>Price</th>\n",
       "      <td>1.000000</td>\n",
       "      <td>0.016094</td>\n",
       "      <td>0.046019</td>\n",
       "      <td>-0.007127</td>\n",
       "      <td>0.003413</td>\n",
       "      <td>0.003000</td>\n",
       "      <td>0.106137</td>\n",
       "      <td>0.201155</td>\n",
       "      <td>0.007720</td>\n",
       "      <td>0.007220</td>\n",
       "      <td>0.177324</td>\n",
       "    </tr>\n",
       "    <tr>\n",
       "      <th>Landsize</th>\n",
       "      <td>0.016094</td>\n",
       "      <td>1.000000</td>\n",
       "      <td>0.162780</td>\n",
       "      <td>0.404674</td>\n",
       "      <td>0.836489</td>\n",
       "      <td>0.702911</td>\n",
       "      <td>0.705139</td>\n",
       "      <td>0.054010</td>\n",
       "      <td>0.162408</td>\n",
       "      <td>0.162308</td>\n",
       "      <td>0.109227</td>\n",
       "    </tr>\n",
       "    <tr>\n",
       "      <th>BuildingArea</th>\n",
       "      <td>0.046019</td>\n",
       "      <td>0.162780</td>\n",
       "      <td>1.000000</td>\n",
       "      <td>0.077098</td>\n",
       "      <td>0.075016</td>\n",
       "      <td>0.025421</td>\n",
       "      <td>0.137661</td>\n",
       "      <td>0.268926</td>\n",
       "      <td>0.957517</td>\n",
       "      <td>0.950725</td>\n",
       "      <td>0.667384</td>\n",
       "    </tr>\n",
       "    <tr>\n",
       "      <th>logLS</th>\n",
       "      <td>-0.007127</td>\n",
       "      <td>0.404674</td>\n",
       "      <td>0.077098</td>\n",
       "      <td>1.000000</td>\n",
       "      <td>0.139073</td>\n",
       "      <td>0.091174</td>\n",
       "      <td>0.834776</td>\n",
       "      <td>0.189443</td>\n",
       "      <td>0.045401</td>\n",
       "      <td>0.044802</td>\n",
       "      <td>0.172661</td>\n",
       "    </tr>\n",
       "    <tr>\n",
       "      <th>LS^2</th>\n",
       "      <td>0.003413</td>\n",
       "      <td>0.836489</td>\n",
       "      <td>0.075016</td>\n",
       "      <td>0.139073</td>\n",
       "      <td>1.000000</td>\n",
       "      <td>0.967224</td>\n",
       "      <td>0.378415</td>\n",
       "      <td>0.009528</td>\n",
       "      <td>0.078550</td>\n",
       "      <td>0.078593</td>\n",
       "      <td>0.038232</td>\n",
       "    </tr>\n",
       "    <tr>\n",
       "      <th>LS^3</th>\n",
       "      <td>0.003000</td>\n",
       "      <td>0.702911</td>\n",
       "      <td>0.025421</td>\n",
       "      <td>0.091174</td>\n",
       "      <td>0.967224</td>\n",
       "      <td>1.000000</td>\n",
       "      <td>0.282098</td>\n",
       "      <td>0.004399</td>\n",
       "      <td>0.026534</td>\n",
       "      <td>0.026552</td>\n",
       "      <td>0.013699</td>\n",
       "    </tr>\n",
       "    <tr>\n",
       "      <th>LSsqrt</th>\n",
       "      <td>0.106137</td>\n",
       "      <td>0.705139</td>\n",
       "      <td>0.137661</td>\n",
       "      <td>0.834776</td>\n",
       "      <td>0.378415</td>\n",
       "      <td>0.282098</td>\n",
       "      <td>1.000000</td>\n",
       "      <td>0.229385</td>\n",
       "      <td>0.102600</td>\n",
       "      <td>0.102057</td>\n",
       "      <td>0.228397</td>\n",
       "    </tr>\n",
       "    <tr>\n",
       "      <th>logBA</th>\n",
       "      <td>0.201155</td>\n",
       "      <td>0.054010</td>\n",
       "      <td>0.268926</td>\n",
       "      <td>0.189443</td>\n",
       "      <td>0.009528</td>\n",
       "      <td>0.004399</td>\n",
       "      <td>0.229385</td>\n",
       "      <td>1.000000</td>\n",
       "      <td>0.089699</td>\n",
       "      <td>0.085130</td>\n",
       "      <td>0.839317</td>\n",
       "    </tr>\n",
       "    <tr>\n",
       "      <th>BA^2</th>\n",
       "      <td>0.007720</td>\n",
       "      <td>0.162408</td>\n",
       "      <td>0.957517</td>\n",
       "      <td>0.045401</td>\n",
       "      <td>0.078550</td>\n",
       "      <td>0.026534</td>\n",
       "      <td>0.102600</td>\n",
       "      <td>0.089699</td>\n",
       "      <td>1.000000</td>\n",
       "      <td>0.999579</td>\n",
       "      <td>0.469414</td>\n",
       "    </tr>\n",
       "    <tr>\n",
       "      <th>BA^3</th>\n",
       "      <td>0.007220</td>\n",
       "      <td>0.162308</td>\n",
       "      <td>0.950725</td>\n",
       "      <td>0.044802</td>\n",
       "      <td>0.078593</td>\n",
       "      <td>0.026552</td>\n",
       "      <td>0.102057</td>\n",
       "      <td>0.085130</td>\n",
       "      <td>0.999579</td>\n",
       "      <td>1.000000</td>\n",
       "      <td>0.459597</td>\n",
       "    </tr>\n",
       "    <tr>\n",
       "      <th>BAsqrt</th>\n",
       "      <td>0.177324</td>\n",
       "      <td>0.109227</td>\n",
       "      <td>0.667384</td>\n",
       "      <td>0.172661</td>\n",
       "      <td>0.038232</td>\n",
       "      <td>0.013699</td>\n",
       "      <td>0.228397</td>\n",
       "      <td>0.839317</td>\n",
       "      <td>0.469414</td>\n",
       "      <td>0.459597</td>\n",
       "      <td>1.000000</td>\n",
       "    </tr>\n",
       "  </tbody>\n",
       "</table>\n",
       "</div>"
      ],
      "text/plain": [
       "                 Price  Landsize  BuildingArea     logLS      LS^2      LS^3  \\\n",
       "Price         1.000000  0.016094      0.046019 -0.007127  0.003413  0.003000   \n",
       "Landsize      0.016094  1.000000      0.162780  0.404674  0.836489  0.702911   \n",
       "BuildingArea  0.046019  0.162780      1.000000  0.077098  0.075016  0.025421   \n",
       "logLS        -0.007127  0.404674      0.077098  1.000000  0.139073  0.091174   \n",
       "LS^2          0.003413  0.836489      0.075016  0.139073  1.000000  0.967224   \n",
       "LS^3          0.003000  0.702911      0.025421  0.091174  0.967224  1.000000   \n",
       "LSsqrt        0.106137  0.705139      0.137661  0.834776  0.378415  0.282098   \n",
       "logBA         0.201155  0.054010      0.268926  0.189443  0.009528  0.004399   \n",
       "BA^2          0.007720  0.162408      0.957517  0.045401  0.078550  0.026534   \n",
       "BA^3          0.007220  0.162308      0.950725  0.044802  0.078593  0.026552   \n",
       "BAsqrt        0.177324  0.109227      0.667384  0.172661  0.038232  0.013699   \n",
       "\n",
       "                LSsqrt     logBA      BA^2      BA^3    BAsqrt  \n",
       "Price         0.106137  0.201155  0.007720  0.007220  0.177324  \n",
       "Landsize      0.705139  0.054010  0.162408  0.162308  0.109227  \n",
       "BuildingArea  0.137661  0.268926  0.957517  0.950725  0.667384  \n",
       "logLS         0.834776  0.189443  0.045401  0.044802  0.172661  \n",
       "LS^2          0.378415  0.009528  0.078550  0.078593  0.038232  \n",
       "LS^3          0.282098  0.004399  0.026534  0.026552  0.013699  \n",
       "LSsqrt        1.000000  0.229385  0.102600  0.102057  0.228397  \n",
       "logBA         0.229385  1.000000  0.089699  0.085130  0.839317  \n",
       "BA^2          0.102600  0.089699  1.000000  0.999579  0.469414  \n",
       "BA^3          0.102057  0.085130  0.999579  1.000000  0.459597  \n",
       "BAsqrt        0.228397  0.839317  0.469414  0.459597  1.000000  "
      ]
     },
     "execution_count": 37,
     "metadata": {},
     "output_type": "execute_result"
    }
   ],
   "source": [
    "#Based on the above Scatter Plots & correlation matrix, it can be concluded that \n",
    "#    Rooms, Bedroom2, Bathroom & Car have weak positive correlation with Price.\n",
    "#    Distance have weak weak negative correlation with Price\n",
    "#    Landsize & Building Area do not have much correlation with Price. i.e, it is having non-linear trend & need to be transformed\n",
    "\n",
    "Mhousing_P=Mhousing_num.loc[:,['Price','Landsize','BuildingArea']]\n",
    "Mhousing_P['logLS']=np.log(Mhousing_P['Landsize'])\n",
    "Mhousing_P['LS^2']=Mhousing_P['Landsize']**2\n",
    "Mhousing_P['LS^3']=Mhousing_P['Landsize']**3\n",
    "Mhousing_P['LSsqrt']=np.sqrt(Mhousing_P['Landsize'])\n",
    "\n",
    "Mhousing_P['logBA']=np.log(Mhousing_P['BuildingArea'])\n",
    "Mhousing_P['BA^2']=Mhousing_P['BuildingArea']**2\n",
    "Mhousing_P['BA^3']=Mhousing_P['BuildingArea']**3\n",
    "Mhousing_P['BAsqrt']=np.sqrt(Mhousing_P['BuildingArea'])\n",
    "Mhousing_P.corr()"
   ]
  },
  {
   "cell_type": "code",
   "execution_count": 39,
   "metadata": {},
   "outputs": [
    {
     "name": "stdout",
     "output_type": "stream",
     "text": [
      "          Rooms     Price  Distance  Bedroom2  Bathroom       Car  Landsize  \\\n",
      "0     -1.026567  0.359152 -1.296969 -1.217650 -1.088328 -0.886368 -0.297071   \n",
      "1     -1.026567  1.673006 -1.296969 -1.217650 -1.088328 -0.886368 -0.246606   \n",
      "2     -1.026567  0.312773 -1.296969 -1.217650 -1.088328 -2.033518 -0.277151   \n",
      "3      0.040261  0.359152 -1.296969 -0.013421  0.531377 -0.886368 -0.380738   \n",
      "4      0.040261  1.627155 -1.296969 -0.013421  0.531377 -2.033518 -0.291759   \n",
      "...         ...       ...       ...       ...       ...       ...       ...   \n",
      "34852  1.107088  1.673006 -0.719255  1.190807 -1.088328  1.407932  0.013026   \n",
      "34853 -1.026567 -0.136562 -0.719255 -1.217650  0.531377 -0.886368 -0.315664   \n",
      "34854 -1.026567 -0.695939 -0.719255 -1.217650 -1.088328  0.260782 -0.234654   \n",
      "34855  0.040261  0.633727 -0.719255 -0.013421  0.531377  0.260782  0.013026   \n",
      "34856 -1.026567  0.266922 -0.719255 -1.217650 -1.088328 -2.033518 -0.214733   \n",
      "\n",
      "       BuildingArea  YearBuilt  Lattitude  Longtitude  \n",
      "0          0.011963  -0.887783  -0.553855    0.546791  \n",
      "1          0.011963  -0.887783  -0.553855    0.546791  \n",
      "2         -0.299706   1.056978  -0.553855    0.546791  \n",
      "3          0.011963  -0.887783  -0.553855    0.563094  \n",
      "4         -0.026515   1.056978  -0.553855    0.546791  \n",
      "...             ...        ...        ...         ...  \n",
      "34852      0.011963  -0.887783  -0.553855    0.546791  \n",
      "34853     -0.203512   1.177758  -0.553855    0.546791  \n",
      "34854     -0.141948   1.159334  -0.553855    0.546791  \n",
      "34855      0.011963  -0.887783   1.800737   -1.800753  \n",
      "34856     -0.207360   1.087685  -0.553855    0.546791  \n",
      "\n",
      "[32301 rows x 11 columns]\n"
     ]
    }
   ],
   "source": [
    "#Standardization:Name the variables to be standardised before using a distance-based algorithm\n",
    "\n",
    "\n",
    "#SOLUTION: All numeric variables should be standardised before applying distance based algorithm such as KNN method\n",
    "\n",
    "         #using z-score method\n",
    "int_columns=['Rooms','Price','Distance','Bedroom2','Bathroom','Car','Landsize','BuildingArea','YearBuilt','Lattitude','Longtitude']\n",
    "\n",
    "from scipy.stats import zscore\n",
    "Mhousing_num_z=Mhousing_num[int_columns].apply(zscore)\n",
    "print(Mhousing_num_z)"
   ]
  },
  {
   "cell_type": "code",
   "execution_count": 42,
   "metadata": {},
   "outputs": [
    {
     "name": "stdout",
     "output_type": "stream",
     "text": [
      "Dummy variables to be created for variable Suburb :\n"
     ]
    },
    {
     "data": {
      "text/plain": [
       "Reservoir         844\n",
       "Bentleigh East    583\n",
       "Richmond          552\n",
       "Glen Iris         491\n",
       "Preston           485\n",
       "                 ... \n",
       "Avonsleigh          1\n",
       "Monbulk             1\n",
       "Belgrave            1\n",
       "Coldstream          1\n",
       "viewbank            1\n",
       "Name: Suburb, Length: 351, dtype: int64"
      ]
     },
     "execution_count": 42,
     "metadata": {},
     "output_type": "execute_result"
    }
   ],
   "source": [
    "#Dummy encoding :Identify the number of dummy variables to be created for the variable steel.\n",
    "\n",
    "#SOLUTION: There is no variable called as 'steel' in the data set. Hence selecting variable 'Suburb' to work on.\n",
    "\n",
    "print(\"Dummy variables to be created for variable Suburb :\")\n",
    "Mhousing['Suburb'].value_counts()\n",
    "\n",
    "#dummies=pd.get_dummies(Mhousing['Suburb'])\n",
    "#dummies.head()"
   ]
  }
 ],
 "metadata": {
  "kernelspec": {
   "display_name": "Python 3",
   "language": "python",
   "name": "python3"
  },
  "language_info": {
   "codemirror_mode": {
    "name": "ipython",
    "version": 3
   },
   "file_extension": ".py",
   "mimetype": "text/x-python",
   "name": "python",
   "nbconvert_exporter": "python",
   "pygments_lexer": "ipython3",
   "version": "3.7.6"
  }
 },
 "nbformat": 4,
 "nbformat_minor": 4
}
